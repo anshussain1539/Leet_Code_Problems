{
 "cells": [
  {
   "cell_type": "markdown",
   "id": "a2b932ba",
   "metadata": {},
   "source": [
    "## Insert Delete GetRandom O(1)"
   ]
  },
  {
   "cell_type": "code",
   "execution_count": 1,
   "id": "e1039816",
   "metadata": {},
   "outputs": [],
   "source": [
    "import numpy as np\n",
    "class RandomizedSet:\n",
    "\n",
    "    def __init__(self):\n",
    "        self.lister=[]\n",
    "        \n",
    "\n",
    "    def insert(self, val: int) -> bool:\n",
    "        if val not in self.lister:\n",
    "            self.lister.append(val)\n",
    "            return True\n",
    "        else:\n",
    "            return False\n",
    "\n",
    "    def remove(self, val: int) -> bool:\n",
    "        if val not in self.lister:\n",
    "            return False\n",
    "        else:\n",
    "            self.lister.remove(val)\n",
    "            return True\n",
    "\n",
    "    def getRandom(self) -> int:\n",
    "        n = len(self.lister)\n",
    "        rand = np.random.randint(0,n)\n",
    "\n",
    "        return self.lister[rand]\n",
    "\n",
    "\n",
    "\n",
    "# Your RandomizedSet object will be instantiated and called as such:\n",
    "# obj = RandomizedSet()\n",
    "# param_1 = obj.insert(val)\n",
    "# param_2 = obj.remove(val)\n",
    "# param_3 = obj.getRandom()"
   ]
  },
  {
   "cell_type": "markdown",
   "id": "1b84831a",
   "metadata": {},
   "source": [
    "##  Trapping Rain Water"
   ]
  },
  {
   "cell_type": "code",
   "execution_count": 3,
   "id": "eef81f87",
   "metadata": {},
   "outputs": [
    {
     "name": "stdout",
     "output_type": "stream",
     "text": [
      "6\n"
     ]
    }
   ],
   "source": [
    "def trap(height):\n",
    "    if not height:\n",
    "        return 0\n",
    "\n",
    "    left, right = 0, len(height) - 1\n",
    "    left_max, right_max = height[left], height[right]\n",
    "    water_trapped = 0\n",
    "\n",
    "    while left < right:\n",
    "        if left_max < right_max:\n",
    "            left += 1\n",
    "            left_max = max(left_max, height[left])\n",
    "            water_trapped += left_max - height[left]\n",
    "            #print(\"Left_max\" , water_trapped, \"--\", left)\n",
    "            \n",
    "        else:\n",
    "            right -= 1\n",
    "            right_max = max(right_max, height[right])\n",
    "            water_trapped += right_max - height[right]\n",
    "            #print(\"Right_max\" , water_trapped, \"--\", right)\n",
    "\n",
    "    return water_trapped\n",
    "\n",
    "\n",
    "\n",
    "# Example usage\n",
    "height = [0, 1, 0, 2, 1, 0, 1, 3, 2, 1, 2, 1]\n",
    "print(trap(height))  # Output: 6"
   ]
  },
  {
   "cell_type": "markdown",
   "id": "8e3a9bf0",
   "metadata": {},
   "source": [
    "## Longest Substring Without Repeating Characters"
   ]
  },
  {
   "cell_type": "code",
   "execution_count": 4,
   "id": "b2e136d4",
   "metadata": {},
   "outputs": [],
   "source": [
    "class Solution:\n",
    "    def lengthOfLongestSubstring(self, s: str) -> int:\n",
    "\n",
    "        n=len(s)\n",
    "        maxim=0\n",
    "\n",
    "\n",
    "        for j in range(0,n):\n",
    "            diction={}\n",
    "            iter_max=0\n",
    "            for i in s[j:]:\n",
    "                if i in diction:\n",
    "                    break\n",
    "                else:\n",
    "                    diction[i]=1\n",
    "                    iter_max+=1\n",
    "            maxim=max(maxim,iter_max)\n",
    "            #print(maxim,n,j)\n",
    "            if maxim>=(n-j):\n",
    "                break\n",
    "                \n",
    "        return maxim\n",
    "\n",
    "        "
   ]
  },
  {
   "cell_type": "code",
   "execution_count": 4,
   "id": "839dbdbb",
   "metadata": {},
   "outputs": [],
   "source": []
  },
  {
   "cell_type": "code",
   "execution_count": null,
   "id": "32133e5f",
   "metadata": {},
   "outputs": [],
   "source": []
  },
  {
   "cell_type": "code",
   "execution_count": null,
   "id": "0af6561a",
   "metadata": {},
   "outputs": [],
   "source": []
  }
 ],
 "metadata": {
  "kernelspec": {
   "display_name": "Python 3 (ipykernel)",
   "language": "python",
   "name": "python3"
  },
  "language_info": {
   "codemirror_mode": {
    "name": "ipython",
    "version": 3
   },
   "file_extension": ".py",
   "mimetype": "text/x-python",
   "name": "python",
   "nbconvert_exporter": "python",
   "pygments_lexer": "ipython3",
   "version": "3.11.4"
  }
 },
 "nbformat": 4,
 "nbformat_minor": 5
}
